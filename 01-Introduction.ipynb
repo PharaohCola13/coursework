{
 "cells": [
  {
   "cell_type": "markdown",
   "metadata": {
    "colab_type": "text",
    "id": "gsXBFlQjX-Sv"
   },
   "source": [
    "# Overview"
   ]
  },
  {
   "cell_type": "markdown",
   "metadata": {
    "colab": {
     "base_uri": "https://localhost:8080/",
     "height": 34
    },
    "colab_type": "code",
    "executionInfo": {
     "elapsed": 44456,
     "status": "ok",
     "timestamp": 1579130873420,
     "user": {
      "displayName": "Spencer Riley",
      "photoUrl": "https://lh3.googleusercontent.com/a-/AAuE7mDeHp6aHCx6oqcD7qQQOWW0ZJeNx1XReA0Baavlmg=s64",
      "userId": "01914914736749424533"
     },
     "user_tz": 300
    },
    "id": "vK0preqJPYLo",
    "outputId": "c69b3695-2ab4-467f-c33a-32559231428d"
   },
   "source": [
    "The contents of this repository is meant to be a tool of learning how to effectively utilize atmospheric data for analysis and visualization. The primary python libraries that this content is centered around are\n",
    "1. Siphon\n",
    "2. CartoPy\n",
    "3. Xarray\n",
    "4. MetPy"
   ]
  },
  {
   "cell_type": "code",
   "execution_count": null,
   "metadata": {},
   "outputs": [],
   "source": []
  }
 ],
 "metadata": {
  "colab": {
   "authorship_tag": "ABX9TyPlbFtU6ycsMZZ/FIXHwQ2H",
   "collapsed_sections": [],
   "name": "climate_setup.ipynb",
   "provenance": [
    {
     "file_id": "1SaLMeIxrprfbOg-P515b8qU3EcxL_urh",
     "timestamp": 1579127614757
    }
   ]
  },
  "kernelspec": {
   "display_name": "Python 3",
   "language": "python",
   "name": "python3"
  },
  "language_info": {
   "codemirror_mode": {
    "name": "ipython",
    "version": 3
   },
   "file_extension": ".py",
   "mimetype": "text/x-python",
   "name": "python",
   "nbconvert_exporter": "python",
   "pygments_lexer": "ipython3",
   "version": "3.6.9"
  }
 },
 "nbformat": 4,
 "nbformat_minor": 1
}

{
 "cells": [
  {
   "cell_type": "markdown",
   "metadata": {},
   "source": [
    "# II. Working with Siphon\n",
    "\n",
    "## Table of contents\n",
    "1. [Data sets with Siphon](#Data-sets-with-Siphon)\n",
    "  - [Wyoming Upper Air](#Wyoming-Upper-Air)\n",
    "  - [IGRA2 Upper Air](#IGRA2-Upper-Air)"
   ]
  },
  {
   "cell_type": "code",
   "execution_count": 54,
   "metadata": {},
   "outputs": [],
   "source": [
    "import siphon\n",
    "\n",
    "from metpy.units import units\n",
    "\n",
    "from datetime import datetime\n",
    "from numpy import *"
   ]
  },
  {
   "cell_type": "markdown",
   "metadata": {},
   "source": [
    "## Data sets with Siphon\n",
    "\n",
    "### Wyoming Upper Air"
   ]
  },
  {
   "cell_type": "code",
   "execution_count": 55,
   "metadata": {},
   "outputs": [],
   "source": [
    "from siphon.simplewebservice.wyoming import WyomingUpperAir"
   ]
  },
  {
   "cell_type": "raw",
   "metadata": {},
   "source": [
    "We can collect radiosonde data from a defined time and place. "
   ]
  },
  {
   "cell_type": "code",
   "execution_count": 56,
   "metadata": {},
   "outputs": [],
   "source": [
    "## Date [YYYY, M, D, h]\n",
    "date    = datetime(2020, 1, 1, 0)\n",
    "## Hilo, HI\n",
    "station = 'PHTO'"
   ]
  },
  {
   "cell_type": "markdown",
   "metadata": {},
   "source": [
    "Then we can pull the data by using the `request_data()` function where the inputs are the `date` and `time` variable we define above."
   ]
  },
  {
   "cell_type": "code",
   "execution_count": 57,
   "metadata": {},
   "outputs": [],
   "source": [
    "wyua   = WyomingUpperAir.request_data(date, station)"
   ]
  },
  {
   "cell_type": "markdown",
   "metadata": {},
   "source": [
    "The data that can be pulled from the Wyoming database is not complete. "
   ]
  },
  {
   "cell_type": "code",
   "execution_count": 58,
   "metadata": {},
   "outputs": [
    {
     "name": "stdout",
     "output_type": "stream",
     "text": [
      "['pressure' 'height' 'temperature' 'dewpoint' 'direction' 'speed' 'u_wind'\n",
      " 'v_wind' 'station' 'station_number' 'time' 'latitude' 'longitude'\n",
      " 'elevation']\n"
     ]
    }
   ],
   "source": [
    "print(array(wyua.columns))"
   ]
  },
  {
   "cell_type": "code",
   "execution_count": 59,
   "metadata": {},
   "outputs": [
    {
     "name": "stdout",
     "output_type": "stream",
     "text": [
      "[ 26.   26.   23.8  23.4  22.5  19.5  17.2  16.6  15.2  14.2  11.8  10.4\n",
      "  10.1   9.6  11.   11.8  11.7  11.4  12.2  12.1  10.4  10.2  10.2   9.6\n",
      "   8.5   6.4   4.2   3.5   3.4   3.8   2.9   0.4   0.   -1.5  -4.5  -4.8\n",
      "  -5.1  -6.   -6.5 -11.9 -16.3 -16.4 -18.5 -18.6 -20.7 -26.2 -30.7 -30.9\n",
      " -32.5 -38.1 -38.2 -39.8 -39.9 -41.5 -44.1 -50.9 -53.3 -53.7 -60.3 -63.3\n",
      " -63.5 -71.9 -79.1 -81.1 -82.5 -82.9 -79.9 -80.4 -82.7 -81.7 -79.  -78.3\n",
      " -79.  -79.3 -78.9 -77.1 -76.1 -76.4 -76.5 -73.1 -73.1 -73.1 -68.3 -69.1\n",
      " -72.1 -71.5 -71.3 -67.7 -66.9 -66.  -65.2 -64.5 -64.5 -59.3 -58.6 -58.1\n",
      " -57.6 -57.1 -56.3 -55.9 -56.9 -58.5 -58.3 -57.9 -53.9 -54.7 -55.5 -54.7\n",
      " -51.8 -49.9 -48.  -46.7 -48.2 -49.3 -49.7 -48.8 -48.3 -49.1 -48.1 -46.3\n",
      " -46.7 -46.9 -44.1 -44.  -43.9]\n"
     ]
    }
   ],
   "source": [
    "temp = array(wyua['temperature'])\n",
    "print(temp)"
   ]
  },
  {
   "cell_type": "markdown",
   "metadata": {},
   "source": [
    "### IGRA2 Upper Air"
   ]
  },
  {
   "cell_type": "code",
   "execution_count": 60,
   "metadata": {},
   "outputs": [],
   "source": [
    "from siphon.simplewebservice.igra2 import IGRAUpperAir"
   ]
  },
  {
   "cell_type": "markdown",
   "metadata": {},
   "source": [
    "The station codes for all measurement sites around the world can be viewed and downloaded [here](https://www1.ncdc.noaa.gov/pub/data/igra/igra2-station-list.txt). "
   ]
  },
  {
   "cell_type": "code",
   "execution_count": 61,
   "metadata": {},
   "outputs": [],
   "source": [
    "date = datetime(2020, 1, 1, 0)\n",
    "## Hilo, HI\n",
    "station = 'USM00091285'"
   ]
  },
  {
   "cell_type": "code",
   "execution_count": 62,
   "metadata": {},
   "outputs": [],
   "source": [
    "df, header = IGRAUpperAir.request_data(date, station)"
   ]
  },
  {
   "cell_type": "code",
   "execution_count": 63,
   "metadata": {},
   "outputs": [
    {
     "name": "stdout",
     "output_type": "stream",
     "text": [
      "['lvltyp1' 'lvltyp2' 'etime' 'pressure' 'pflag' 'height' 'zflag'\n",
      " 'temperature' 'tflag' 'relative_humidity' 'direction' 'speed' 'date'\n",
      " 'u_wind' 'v_wind' 'dewpoint']\n"
     ]
    }
   ],
   "source": [
    "print(array(df.columns))"
   ]
  },
  {
   "cell_type": "code",
   "execution_count": 64,
   "metadata": {},
   "outputs": [
    {
     "name": "stdout",
     "output_type": "stream",
     "text": [
      "[ 26.1  26.   23.8  23.4  17.2  15.2  11.8  10.5   9.6  11.1  11.8  11.4\n",
      "  12.2  10.5  10.3   9.6   4.3   3.4   3.9   0.1   0.   -4.5  -5.1  -6.4\n",
      " -11.9 -16.2 -18.4 -20.6 -30.6 -30.9 -32.5 -38.  -39.9 -41.5 -50.9 -53.3\n",
      " -53.7 -60.3 -63.2 -63.4 -79.  -81.1 -82.5 -82.9 -79.9 -82.7 -78.3 -79.2\n",
      " -78.8 -76.  -76.5 -73.  -73.1 -68.3 -72.1 -71.2 -67.7 -66.9 -64.5 -59.2\n",
      " -57.1 -55.9 -58.5 -58.3 -53.9 -55.4 -54.6 -46.7 -49.7 -48.2 -49.1 -46.3\n",
      " -46.6 -46.9 -44.  -43.9   nan   nan   nan   nan   nan   nan   nan   nan\n",
      "   nan   nan   nan   nan   nan   nan   nan   nan   nan   nan   nan   nan\n",
      "   nan   nan   nan   nan   nan   nan   nan   nan   nan   nan   nan   nan\n",
      "   nan   nan   nan   nan   nan   nan   nan   nan   nan   nan   nan   nan\n",
      "   nan   nan   nan   nan   nan   nan   nan   nan   nan   nan   nan   nan\n",
      "   nan   nan   nan   nan   nan   nan   nan   nan   nan   nan   nan   nan\n",
      "   nan   nan   nan   nan   nan   nan   nan   nan   nan   nan   nan   nan\n",
      "   nan   nan   nan   nan   nan   nan   nan   nan   nan   nan   nan   nan\n",
      "   nan   nan   nan]\n",
      "nan\n"
     ]
    }
   ],
   "source": [
    "temp = df['temperature']\n",
    "print(array(temp))\n",
    "print(average(temp))"
   ]
  },
  {
   "cell_type": "markdown",
   "metadata": {},
   "source": [
    "We can see that the data from these two repositories differ. "
   ]
  },
  {
   "cell_type": "code",
   "execution_count": null,
   "metadata": {},
   "outputs": [],
   "source": []
  }
 ],
 "metadata": {
  "kernelspec": {
   "display_name": "Python 3",
   "language": "python",
   "name": "python3"
  },
  "language_info": {
   "codemirror_mode": {
    "name": "ipython",
    "version": 3
   },
   "file_extension": ".py",
   "mimetype": "text/x-python",
   "name": "python",
   "nbconvert_exporter": "python",
   "pygments_lexer": "ipython3",
   "version": "3.6.9"
  }
 },
 "nbformat": 4,
 "nbformat_minor": 2
}

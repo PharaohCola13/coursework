{
 "cells": [
  {
   "cell_type": "markdown",
   "metadata": {},
   "source": [
    "# II. Working with Siphon\n",
    "\n",
    "## Table of Contents\n",
    "1. [Data sets with Siphon](#Data-sets-with-Siphon)\n",
    "  - [Wyoming Upper Air](#Wyoming-Upper-Air)\n",
    "  - [IGRA2 Upper Air](#IGRA2-Upper-Air)"
   ]
  },
  {
   "cell_type": "code",
   "execution_count": 1,
   "metadata": {},
   "outputs": [],
   "source": [
    "import siphon\n",
    "\n",
    "from metpy.units import units\n",
    "\n",
    "from datetime import datetime\n",
    "from numpy import *"
   ]
  },
  {
   "cell_type": "markdown",
   "metadata": {},
   "source": [
    "## Data sets with Siphon\n",
    "\n",
    "### Wyoming Upper Air"
   ]
  },
  {
   "cell_type": "code",
   "execution_count": 2,
   "metadata": {},
   "outputs": [],
   "source": [
    "from siphon.simplewebservice.wyoming import WyomingUpperAir"
   ]
  },
  {
   "cell_type": "raw",
   "metadata": {},
   "source": [
    "We can collect radiosonde data from a defined time and place. "
   ]
  },
  {
   "cell_type": "code",
   "execution_count": 3,
   "metadata": {},
   "outputs": [],
   "source": [
    "## Date [YYYY, M, D, h]\n",
    "date    = datetime(2020, 1, 1, 0)\n",
    "## Hilo, HI\n",
    "station = 'PHTO'"
   ]
  },
  {
   "cell_type": "markdown",
   "metadata": {},
   "source": [
    "Then we can pull the data by using the `request_data()` function where the inputs are the `date` and `time` variable we define above."
   ]
  },
  {
   "cell_type": "code",
   "execution_count": 4,
   "metadata": {},
   "outputs": [],
   "source": [
    "wyua   = WyomingUpperAir.request_data(date, station)"
   ]
  },
  {
   "cell_type": "markdown",
   "metadata": {},
   "source": [
    "The data that can be pulled from the Wyoming database is not complete. "
   ]
  },
  {
   "cell_type": "code",
   "execution_count": 5,
   "metadata": {},
   "outputs": [
    {
     "name": "stdout",
     "output_type": "stream",
     "text": [
      "['pressure' 'height' 'temperature' 'dewpoint' 'direction' 'speed' 'u_wind'\n",
      " 'v_wind' 'station' 'station_number' 'time' 'latitude' 'longitude'\n",
      " 'elevation']\n"
     ]
    }
   ],
   "source": [
    "print(array(wyua.columns))"
   ]
  },
  {
   "cell_type": "code",
   "execution_count": 8,
   "metadata": {},
   "outputs": [
    {
     "name": "stdout",
     "output_type": "stream",
     "text": [
      "(0      26.0\n",
      "1      26.0\n",
      "2      23.8\n",
      "3      23.4\n",
      "4      22.5\n",
      "5      19.5\n",
      "6      17.2\n",
      "7      16.6\n",
      "8      15.2\n",
      "9      14.2\n",
      "10     11.8\n",
      "11     10.4\n",
      "12     10.1\n",
      "13      9.6\n",
      "14     11.0\n",
      "15     11.8\n",
      "16     11.7\n",
      "17     11.4\n",
      "18     12.2\n",
      "19     12.1\n",
      "20     10.4\n",
      "21     10.2\n",
      "22     10.2\n",
      "23      9.6\n",
      "24      8.5\n",
      "25      6.4\n",
      "26      4.2\n",
      "27      3.5\n",
      "28      3.4\n",
      "29      3.8\n",
      "       ... \n",
      "95    -58.1\n",
      "96    -57.6\n",
      "97    -57.1\n",
      "98    -56.3\n",
      "99    -55.9\n",
      "100   -56.9\n",
      "101   -58.5\n",
      "102   -58.3\n",
      "103   -57.9\n",
      "104   -53.9\n",
      "105   -54.7\n",
      "106   -55.5\n",
      "107   -54.7\n",
      "108   -51.8\n",
      "109   -49.9\n",
      "110   -48.0\n",
      "111   -46.7\n",
      "112   -48.2\n",
      "113   -49.3\n",
      "114   -49.7\n",
      "115   -48.8\n",
      "116   -48.3\n",
      "117   -49.1\n",
      "118   -48.1\n",
      "119   -46.3\n",
      "120   -46.7\n",
      "121   -46.9\n",
      "122   -44.1\n",
      "123   -44.0\n",
      "124   -43.9\n",
      "Name: temperature, Length: 125, dtype: float64, 0         12\n",
      "1         21\n",
      "2        176\n",
      "3        211\n",
      "4        305\n",
      "5        610\n",
      "6        850\n",
      "7        914\n",
      "8       1074\n",
      "9       1219\n",
      "10      1565\n",
      "11      1744\n",
      "12      1829\n",
      "13      1947\n",
      "14      2019\n",
      "15      2081\n",
      "16      2134\n",
      "17      2282\n",
      "18      2422\n",
      "19      2438\n",
      "20      2743\n",
      "21      3048\n",
      "22      3064\n",
      "23      3182\n",
      "24      3353\n",
      "25      3658\n",
      "26      3993\n",
      "27      4267\n",
      "28      4319\n",
      "29      4466\n",
      "       ...  \n",
      "95     23165\n",
      "96     23470\n",
      "97     23780\n",
      "98     24079\n",
      "99     24217\n",
      "100    24384\n",
      "101    24661\n",
      "102    25267\n",
      "103    25298\n",
      "104    25597\n",
      "105    25908\n",
      "106    26224\n",
      "107    26350\n",
      "108    26822\n",
      "109    27127\n",
      "110    27432\n",
      "111    27643\n",
      "112    28042\n",
      "113    28346\n",
      "114    28455\n",
      "115    28956\n",
      "116    29274\n",
      "117    30270\n",
      "118    30480\n",
      "119    30834\n",
      "120    30900\n",
      "121    30967\n",
      "122    31241\n",
      "123    31394\n",
      "124    31604\n",
      "Name: height, Length: 125, dtype: int64)\n"
     ]
    }
   ],
   "source": [
    "temp = (wyua['temperature'], wyua['height'])\n",
    "print(temp)"
   ]
  },
  {
   "cell_type": "markdown",
   "metadata": {},
   "source": [
    "### IGRA2 Upper Air"
   ]
  },
  {
   "cell_type": "code",
   "execution_count": 10,
   "metadata": {},
   "outputs": [],
   "source": [
    "from siphon.simplewebservice.igra2 import IGRAUpperAir"
   ]
  },
  {
   "cell_type": "markdown",
   "metadata": {},
   "source": [
    "The station codes for all measurement sites around the world can be viewed and downloaded [here](https://www1.ncdc.noaa.gov/pub/data/igra/igra2-station-list.txt). "
   ]
  },
  {
   "cell_type": "code",
   "execution_count": 11,
   "metadata": {},
   "outputs": [],
   "source": [
    "date = datetime(2020, 1, 1, 0)\n",
    "## Hilo, HI\n",
    "station = 'USM00091285'"
   ]
  },
  {
   "cell_type": "code",
   "execution_count": 12,
   "metadata": {},
   "outputs": [],
   "source": [
    "df, header = IGRAUpperAir.request_data(date, station)"
   ]
  },
  {
   "cell_type": "code",
   "execution_count": 13,
   "metadata": {},
   "outputs": [
    {
     "name": "stdout",
     "output_type": "stream",
     "text": [
      "['lvltyp1' 'lvltyp2' 'etime' 'pressure' 'pflag' 'height' 'zflag'\n",
      " 'temperature' 'tflag' 'relative_humidity' 'direction' 'speed' 'date'\n",
      " 'u_wind' 'v_wind' 'dewpoint']\n"
     ]
    }
   ],
   "source": [
    "print(array(df.columns))"
   ]
  },
  {
   "cell_type": "code",
   "execution_count": 14,
   "metadata": {},
   "outputs": [
    {
     "name": "stdout",
     "output_type": "stream",
     "text": [
      "[[ 2.6100e+01  2.6000e+01  2.3800e+01  2.3400e+01  1.7200e+01  1.5200e+01\n",
      "   1.1800e+01  1.0500e+01  9.6000e+00  1.1100e+01  1.1800e+01  1.1400e+01\n",
      "   1.2200e+01  1.0500e+01  1.0300e+01  9.6000e+00  4.3000e+00  3.4000e+00\n",
      "   3.9000e+00  1.0000e-01  0.0000e+00 -4.5000e+00 -5.1000e+00 -6.4000e+00\n",
      "  -1.1900e+01 -1.6200e+01 -1.8400e+01 -2.0600e+01 -3.0600e+01 -3.0900e+01\n",
      "  -3.2500e+01 -3.8000e+01 -3.9900e+01 -4.1500e+01 -5.0900e+01 -5.3300e+01\n",
      "  -5.3700e+01 -6.0300e+01 -6.3200e+01 -6.3400e+01 -7.9000e+01 -8.1100e+01\n",
      "  -8.2500e+01 -8.2900e+01 -7.9900e+01 -8.2700e+01 -7.8300e+01 -7.9200e+01\n",
      "  -7.8800e+01 -7.6000e+01 -7.6500e+01 -7.3000e+01 -7.3100e+01 -6.8300e+01\n",
      "  -7.2100e+01 -7.1200e+01 -6.7700e+01 -6.6900e+01 -6.4500e+01 -5.9200e+01\n",
      "  -5.7100e+01 -5.5900e+01 -5.8500e+01 -5.8300e+01 -5.3900e+01 -5.5400e+01\n",
      "  -5.4600e+01 -4.6700e+01 -4.9700e+01 -4.8200e+01 -4.9100e+01 -4.6300e+01\n",
      "  -4.6600e+01 -4.6900e+01 -4.4000e+01 -4.3900e+01         nan         nan\n",
      "          nan         nan         nan         nan         nan         nan\n",
      "          nan         nan         nan         nan         nan         nan\n",
      "          nan         nan         nan         nan         nan         nan\n",
      "          nan         nan         nan         nan         nan         nan\n",
      "          nan         nan         nan         nan         nan         nan\n",
      "          nan         nan         nan         nan         nan         nan\n",
      "          nan         nan         nan         nan         nan         nan\n",
      "          nan         nan         nan         nan         nan         nan\n",
      "          nan         nan         nan         nan         nan         nan\n",
      "          nan         nan         nan         nan         nan         nan\n",
      "          nan         nan         nan         nan         nan         nan\n",
      "          nan         nan         nan         nan         nan         nan\n",
      "          nan         nan         nan         nan         nan         nan\n",
      "          nan         nan         nan         nan         nan         nan\n",
      "          nan         nan         nan         nan         nan         nan\n",
      "          nan         nan         nan]\n",
      " [ 1.2000e+01  2.2000e+01  1.7600e+02  2.0700e+02  8.5000e+02  1.0700e+03\n",
      "   1.5650e+03  1.7420e+03  1.9500e+03  2.0180e+03  2.0770e+03  2.2810e+03\n",
      "   2.4210e+03  2.7400e+03  3.0640e+03  3.1820e+03  3.9940e+03  4.3190e+03\n",
      "   4.4620e+03  4.9270e+03  4.9510e+03  5.7290e+03  5.8940e+03  6.1900e+03\n",
      "   6.9180e+03  7.6090e+03  7.8930e+03  8.4430e+03  9.7170e+03  9.7460e+03\n",
      "   1.0052e+04  1.0646e+04  1.0986e+04  1.1242e+04  1.2474e+04  1.2767e+04\n",
      "   1.2930e+04  1.3774e+04  1.4293e+04  1.4328e+04  1.6046e+04  1.6318e+04\n",
      "   1.6659e+04  1.6880e+04  1.7273e+04  1.7866e+04  1.8363e+04  1.8666e+04\n",
      "   1.8814e+04  1.8946e+04  1.9276e+04  1.9475e+04  1.9852e+04  1.9980e+04\n",
      "   2.0633e+04  2.0756e+04  2.0894e+04  2.0934e+04  2.1946e+04  2.2475e+04\n",
      "   2.3782e+04  2.4220e+04  2.4666e+04  2.5259e+04  2.5611e+04  2.6220e+04\n",
      "   2.6352e+04  2.7641e+04  2.8465e+04  2.9295e+04  3.0284e+04  3.0812e+04\n",
      "   3.0903e+04  3.0970e+04  3.1279e+04  3.1572e+04  3.3500e+02  6.5600e+02\n",
      "   9.4300e+02  1.2250e+03  1.5070e+03  1.8220e+03  2.1350e+03  2.7090e+03\n",
      "   3.0000e+03  3.2980e+03  3.5950e+03  3.9070e+03  4.2280e+03  4.5160e+03\n",
      "   4.8170e+03  5.1220e+03  5.4220e+03  5.7440e+03  6.0540e+03  6.3640e+03\n",
      "   6.6620e+03  6.9720e+03  7.2700e+03  7.5670e+03  7.8780e+03  8.2210e+03\n",
      "   8.5610e+03  8.8890e+03  9.1860e+03  9.4740e+03  9.7660e+03  1.0339e+04\n",
      "   1.0628e+04  1.0955e+04  1.1255e+04  1.1523e+04  1.1788e+04  1.2066e+04\n",
      "   1.2350e+04  1.2646e+04  1.2950e+04  1.3252e+04  1.3569e+04  1.3838e+04\n",
      "   1.4087e+04  1.4602e+04  1.4889e+04  1.5185e+04  1.5509e+04  1.5814e+04\n",
      "   1.6110e+04  1.6400e+04  1.6687e+04  1.6964e+04  1.7284e+04  1.7623e+04\n",
      "   1.7946e+04  1.8252e+04  1.8567e+04  1.8884e+04  1.9198e+04  1.9512e+04\n",
      "   2.0194e+04  2.0528e+04  2.0825e+04  2.1132e+04  2.1463e+04  2.1786e+04\n",
      "   2.2100e+04  2.2415e+04  2.2761e+04  2.3123e+04  2.3461e+04  2.3796e+04\n",
      "   2.4145e+04  2.4495e+04  2.4839e+04  2.5182e+04  2.5543e+04  2.5913e+04\n",
      "   2.6269e+04  2.6634e+04  2.7011e+04  2.7389e+04  2.7789e+04  2.8182e+04\n",
      "   2.8567e+04  2.8940e+04  2.9307e+04  2.9685e+04  3.0056e+04  3.0406e+04\n",
      "   3.0753e+04  3.1132e+04  3.1500e+04]]\n"
     ]
    }
   ],
   "source": [
    "temp = (df['temperature'], df['height'])\n",
    "print(array(temp))"
   ]
  },
  {
   "cell_type": "markdown",
   "metadata": {},
   "source": [
    "We can see that the data from these two repositories differ. "
   ]
  },
  {
   "cell_type": "code",
   "execution_count": null,
   "metadata": {},
   "outputs": [],
   "source": []
  }
 ],
 "metadata": {
  "kernelspec": {
   "display_name": "Python 3",
   "language": "python",
   "name": "python3"
  },
  "language_info": {
   "codemirror_mode": {
    "name": "ipython",
    "version": 3
   },
   "file_extension": ".py",
   "mimetype": "text/x-python",
   "name": "python",
   "nbconvert_exporter": "python",
   "pygments_lexer": "ipython3",
   "version": "3.6.9"
  }
 },
 "nbformat": 4,
 "nbformat_minor": 2
}

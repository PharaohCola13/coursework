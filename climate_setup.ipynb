{
 "cells": [
  {
   "cell_type": "markdown",
   "metadata": {
    "colab_type": "text",
    "id": "4-Z5AyC_XomI"
   },
   "source": [
    "# Import Python libraries"
   ]
  },
  {
   "cell_type": "code",
   "execution_count": 1,
   "metadata": {
    "colab": {},
    "colab_type": "code",
    "id": "n2Xg8XPdPXQU"
   },
   "outputs": [],
   "source": [
    "import metpy\n",
    "import siphon\n",
    "import xarray\n",
    "from metpy.units import units\n",
    "from siphon.simplewebservice.wyoming import WyomingUpperAir\n",
    "from datetime import datetime\n",
    "from numpy import *"
   ]
  },
  {
   "cell_type": "markdown",
   "metadata": {
    "colab_type": "text",
    "id": "gsXBFlQjX-Sv"
   },
   "source": [
    "# Siphon Example"
   ]
  },
  {
   "cell_type": "code",
   "execution_count": 2,
   "metadata": {
    "colab": {
     "base_uri": "https://localhost:8080/",
     "height": 34
    },
    "colab_type": "code",
    "executionInfo": {
     "elapsed": 44456,
     "status": "ok",
     "timestamp": 1579130873420,
     "user": {
      "displayName": "Spencer Riley",
      "photoUrl": "https://lh3.googleusercontent.com/a-/AAuE7mDeHp6aHCx6oqcD7qQQOWW0ZJeNx1XReA0Baavlmg=s64",
      "userId": "01914914736749424533"
     },
     "user_tz": 300
    },
    "id": "vK0preqJPYLo",
    "outputId": "c69b3695-2ab4-467f-c33a-32559231428d"
   },
   "outputs": [
    {
     "name": "stdout",
     "output_type": "stream",
     "text": [
      "-35.99999999999999 degree_Celsius\n"
     ]
    }
   ],
   "source": [
    "date = datetime(2020, 1, 1, 0)\n",
    "station = 'PHTO'\n",
    "\n",
    "df = WyomingUpperAir.request_data(date, station)\n",
    "\n",
    "# print(df.columns)\n",
    "temp = (average(df['temperature']))\n",
    "\n",
    "temp_w_units = temp * units.degC\n",
    "\n",
    "print(temp_w_units)"
   ]
  },
  {
   "cell_type": "code",
   "execution_count": null,
   "metadata": {},
   "outputs": [],
   "source": []
  }
 ],
 "metadata": {
  "colab": {
   "authorship_tag": "ABX9TyPlbFtU6ycsMZZ/FIXHwQ2H",
   "collapsed_sections": [],
   "name": "climate_setup.ipynb",
   "provenance": [
    {
     "file_id": "1SaLMeIxrprfbOg-P515b8qU3EcxL_urh",
     "timestamp": 1579127614757
    }
   ]
  },
  "kernelspec": {
   "display_name": "Python 3",
   "language": "python",
   "name": "python3"
  },
  "language_info": {
   "codemirror_mode": {
    "name": "ipython",
    "version": 3
   },
   "file_extension": ".py",
   "mimetype": "text/x-python",
   "name": "python",
   "nbconvert_exporter": "python",
   "pygments_lexer": "ipython3",
   "version": "3.7.3"
  }
 },
 "nbformat": 4,
 "nbformat_minor": 1
}
